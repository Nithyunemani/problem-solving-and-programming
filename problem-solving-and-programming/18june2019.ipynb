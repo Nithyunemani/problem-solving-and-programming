{
 "cells": [
  {
   "cell_type": "markdown",
   "metadata": {},
   "source": [
    "### problem:highest remainder\n",
    "\n",
    "n \n",
    "highest = 0 \n",
    "x < N and n % x == highest\n"
   ]
  },
  {
   "cell_type": "code",
   "execution_count": 8,
   "metadata": {},
   "outputs": [
    {
     "name": "stdout",
     "output_type": "stream",
     "text": [
      "30\n"
     ]
    }
   ],
   "source": [
    "def highestremainder(n):\n",
    "    hr = 0\n",
    "    v = n\n",
    "    for i in range(n-1, n // 2 + 1):\n",
    "        r = n % i\n",
    "        if r > hr:\n",
    "            hr = r\n",
    "            v = i\n",
    "    print(v)\n",
    "    return\n",
    "    \n",
    "highestremainder(30)\n",
    "\n"
   ]
  },
  {
   "cell_type": "markdown",
   "metadata": {},
   "source": [
    "### Tuples\n",
    "t1 = ()\n",
    "li = []\n",
    "\n",
    "difference between lists and tuples \n",
    "\n",
    "lists are mutable - can be changed / modified\n",
    "- used to access,modify,add,delete data\n",
    "\n",
    "Tuples are immutable-cannot be changed once initialised \n",
    "- used to access data only \n",
    "- all slicing work"
   ]
  },
  {
   "cell_type": "code",
   "execution_count": 9,
   "metadata": {},
   "outputs": [
    {
     "data": {
      "text/plain": [
       "(8, 6, 0)"
      ]
     },
     "execution_count": 9,
     "metadata": {},
     "output_type": "execute_result"
    }
   ],
   "source": [
    "t1 = (1, 2, 8, 6, 0)\n",
    "\n",
    "t1[3] # accessing the fourth element \n",
    "\n",
    "t1[len(t1)//2:]# accessing all elements from middle to last "
   ]
  },
  {
   "cell_type": "code",
   "execution_count": 11,
   "metadata": {},
   "outputs": [
    {
     "data": {
      "text/plain": [
       "tuple"
      ]
     },
     "execution_count": 11,
     "metadata": {},
     "output_type": "execute_result"
    }
   ],
   "source": [
    "type(t1)"
   ]
  },
  {
   "cell_type": "code",
   "execution_count": null,
   "metadata": {},
   "outputs": [],
   "source": []
  },
  {
   "cell_type": "markdown",
   "metadata": {},
   "source": [
    "### Dictionaries \n",
    "\n",
    "It works on the concept of set \n",
    "unique data\n",
    "\n",
    "keys, values \n",
    "key is the unique identifier for a value \n",
    "value is data that can be accessed with a key "
   ]
  },
  {
   "cell_type": "code",
   "execution_count": 24,
   "metadata": {},
   "outputs": [
    {
     "data": {
      "text/plain": [
       "False"
      ]
     },
     "execution_count": 24,
     "metadata": {},
     "output_type": "execute_result"
    }
   ],
   "source": [
    "d1 = {\"k1\":\"value1\",\"k2\":\"value2\"}\n",
    "\n",
    "d1[\"k2\"] # accessing the values with key \"k2\"\n",
    "d1.keys() #return list of all keys\n",
    "d1.values() #return list of all values \n",
    "d1.items() # return list of tuples of keys and values \n",
    "d1[\"k3\"]=\"value3\"#adding an element to the dictionary \n",
    "\n",
    "d1[\"k3\"]=\"value4\"#updating an element to the dictionary \n",
    "d1.pop(\"k3\") #removing of an element \n",
    "\"k3\" in d1\n"
   ]
  },
  {
   "cell_type": "markdown",
   "metadata": {},
   "source": [
    "### contacts application \n",
    "- add contact\n",
    "- search for contact\n",
    "- list of all contacts\n",
    "    - name1 : phone1\n",
    "    - name2 : phone2\n",
    "- modify contact \n",
    "- remove contact\n",
    "\n"
   ]
  },
  {
   "cell_type": "code",
   "execution_count": 25,
   "metadata": {},
   "outputs": [
    {
     "name": "stdout",
     "output_type": "stream",
     "text": [
      "contact nithyusha added\n"
     ]
    }
   ],
   "source": [
    "contacts = {}\n",
    "\n",
    "def addcontact(name, phone):\n",
    "    #verify that the contact doesnot already exist \n",
    "    if name not in contacts:\n",
    "        contacts[name] = phone\n",
    "        print(\"contact %s added\" % name )\n",
    "    else:\n",
    "        print(\"contact %s already exists\"% name )\n",
    "    return\n",
    "\n",
    "addcontact(\"nithyusha\",\"6303994248\")"
   ]
  },
  {
   "cell_type": "code",
   "execution_count": 30,
   "metadata": {},
   "outputs": [
    {
     "name": "stdout",
     "output_type": "stream",
     "text": [
      "nithyusha : 6303994248\n"
     ]
    }
   ],
   "source": [
    "def searchcontacts(name):\n",
    "    if name in contacts:\n",
    "        print(name,\":\", contacts[name])\n",
    "    else:\n",
    "        print(\"%s does not exist\" % name)\n",
    "    return \n",
    "              \n",
    "searchcontacts(\"nithyusha\")"
   ]
  },
  {
   "cell_type": "code",
   "execution_count": 38,
   "metadata": {},
   "outputs": [
    {
     "name": "stdout",
     "output_type": "stream",
     "text": [
      "contact nithyu already exists\n"
     ]
    }
   ],
   "source": [
    "addcontact(\"nithyu\",\"9490274153\")"
   ]
  },
  {
   "cell_type": "code",
   "execution_count": 39,
   "metadata": {},
   "outputs": [
    {
     "name": "stdout",
     "output_type": "stream",
     "text": [
      "contact nanna added\n"
     ]
    }
   ],
   "source": [
    "addcontact(\"nanna\",\"9848150262\")"
   ]
  },
  {
   "cell_type": "code",
   "execution_count": 40,
   "metadata": {},
   "outputs": [
    {
     "name": "stdout",
     "output_type": "stream",
     "text": [
      "nithyusha contact\n",
      "nithyu contact\n",
      "nanna contact\n"
     ]
    }
   ],
   "source": [
    "def listofcontacts():\n",
    "    for name in contacts:\n",
    "        print(name,\"contact\")\n",
    "    else:\n",
    "        return\n",
    "\n",
    "listofcontacts()"
   ]
  },
  {
   "cell_type": "code",
   "execution_count": 42,
   "metadata": {},
   "outputs": [
    {
     "name": "stdout",
     "output_type": "stream",
     "text": [
      "2 added succesfully\n"
     ]
    }
   ],
   "source": [
    "def importcontacts(newcontacts):\n",
    "    contacts.update(newcontacts)\n",
    "    print(len(newcontacts.keys()),\"added succesfully\")\n",
    "    return\n",
    "newcontacts = {\"name2\":1234567890, \"name3\":9876543210}\n",
    "\n",
    "importcontacts(newcontacts)"
   ]
  },
  {
   "cell_type": "markdown",
   "metadata": {},
   "source": [
    "### packages and modules\n",
    "**packages**->collection of modules(python file)\n",
    "\n",
    "\n",
    "**subpackages**->\n",
    "\n",
    "\n",
    "**modules**->a single python file contains functions\n",
    "\n",
    "\n",
    "package->subpackages->modules->functions\n",
    "    "
   ]
  },
  {
   "cell_type": "code",
   "execution_count": 9,
   "metadata": {},
   "outputs": [
    {
     "data": {
      "text/plain": [
       "123"
      ]
     },
     "execution_count": 9,
     "metadata": {},
     "output_type": "execute_result"
    }
   ],
   "source": [
    "from math import floor as fl\n",
    "\n",
    "fl(123.456)\n"
   ]
  },
  {
   "cell_type": "code",
   "execution_count": 21,
   "metadata": {},
   "outputs": [
    {
     "name": "stdout",
     "output_type": "stream",
     "text": [
      "11 45 57 24 12 66 21 86 71 75 "
     ]
    }
   ],
   "source": [
    "#function to generate n randam numbers\n",
    "\n",
    "import random\n",
    "\n",
    "def generateNRandomNumbers(n,lb,ub):\n",
    "    for i in range(0, n):\n",
    "        print(random.randint(lb, ub), end=\" \")   \n",
    "        \n",
    "generateNRandomNumbers(10, 0, 100)"
   ]
  },
  {
   "cell_type": "code",
   "execution_count": 4,
   "metadata": {},
   "outputs": [
    {
     "data": {
      "text/plain": [
       "-1"
      ]
     },
     "execution_count": 4,
     "metadata": {},
     "output_type": "execute_result"
    }
   ],
   "source": [
    "from Packages import numerical \n",
    "\n",
    "numerical.cal(1,2,3)"
   ]
  },
  {
   "cell_type": "code",
   "execution_count": null,
   "metadata": {},
   "outputs": [],
   "source": []
  }
 ],
 "metadata": {
  "kernelspec": {
   "display_name": "Python 3",
   "language": "python",
   "name": "python3"
  },
  "language_info": {
   "codemirror_mode": {
    "name": "ipython",
    "version": 3
   },
   "file_extension": ".py",
   "mimetype": "text/x-python",
   "name": "python",
   "nbconvert_exporter": "python",
   "pygments_lexer": "ipython3",
   "version": "3.7.3"
  }
 },
 "nbformat": 4,
 "nbformat_minor": 2
}
