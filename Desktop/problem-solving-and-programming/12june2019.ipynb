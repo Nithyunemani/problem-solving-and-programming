{
 "cells": [
  {
   "cell_type": "markdown",
   "metadata": {},
   "source": [
    "# problem solving and programming \n",
    "\n",
    "### date 12 june 2019\n",
    "\n",
    "### day objectives\n",
    "- string slicing\n",
    "- functions in python\n",
    "- basic problems related to conditional statements using functions \n",
    "- iteration in python \n",
    "- python data structures-lists,tuples and dictionaries \n",
    "- operations on data structures\n",
    "- applying data structures to solve problems"
   ]
  },
  {
   "cell_type": "code",
   "execution_count": null,
   "metadata": {},
   "outputs": [],
   "source": []
  },
  {
   "cell_type": "markdown",
   "metadata": {},
   "source": [
    "### string slicing "
   ]
  },
  {
   "cell_type": "code",
   "execution_count": 55,
   "metadata": {},
   "outputs": [
    {
     "ename": "SyntaxError",
     "evalue": "invalid syntax (<ipython-input-55-d73da855b33f>, line 18)",
     "output_type": "error",
     "traceback": [
      "\u001b[1;36m  File \u001b[1;32m\"<ipython-input-55-d73da855b33f>\"\u001b[1;36m, line \u001b[1;32m18\u001b[0m\n\u001b[1;33m    s1[-1::-1] #reverse of a string\u001b[0m\n\u001b[1;37m     ^\u001b[0m\n\u001b[1;31mSyntaxError\u001b[0m\u001b[1;31m:\u001b[0m invalid syntax\n"
     ]
    }
   ],
   "source": [
    "s1 = \"python\"\n",
    "\n",
    "s1[0] # accessing the first character in a string \n",
    "s1[len(s1)-1]  #accessung the last character in a string \n",
    "\n",
    "s1[-1]  #another way of accessing the last character\n",
    "\n",
    "s1[-2]  #accessinG the penultimate character\n",
    "s1[0:2] #accessing the first 2 numbers \n",
    "\n",
    "s1[-2:]  #accessing the last 2 characters\n",
    "\n",
    "s1[4:]  #accessing all characters from 5th character to end of the string \n",
    "\n",
    "s1[1:5] #accessing all characters except first and last character \n",
    "\n",
    "s1[(len(s1)//2) #accessing the middle character in a string\n",
    "s1[-1::-1] #reverse of a string\n",
    "\n",
    "s1[-1:-3:-1] #accessing the last two characters in reverse order\n",
    "\n",
    "s1[-len(s1)//2::(len(s1)//2):-1] # reverse the middle two characters in an even length string \n",
    "   \n",
    "   \n",
    "   \n",
    "#accessing alternate characters in a string \n",
    "#\"python\"->\"pto\"\n",
    "s1[::2]  \n",
    "#accessing alternate characters of a string in reverse of \n",
    "#\"python\" -> \"nhy\"\n",
    "s1[::-2]\n",
    "   \n",
    "\n"
   ]
  },
  {
   "cell_type": "code",
   "execution_count": null,
   "metadata": {},
   "outputs": [],
   "source": []
  },
  {
   "cell_type": "markdown",
   "metadata": {},
   "source": [
    "## functions"
   ]
  },
  {
   "cell_type": "code",
   "execution_count": 56,
   "metadata": {},
   "outputs": [
    {
     "data": {
      "text/plain": [
       "'nohtyp'"
      ]
     },
     "execution_count": 56,
     "metadata": {},
     "output_type": "execute_result"
    }
   ],
   "source": [
    "# functions of reverse string \n",
    "def reverseString(s):\n",
    "    return s[::-1]\n",
    "\n",
    "reverseString(\"python\")"
   ]
  },
  {
   "cell_type": "code",
   "execution_count": 60,
   "metadata": {},
   "outputs": [
    {
     "data": {
      "text/plain": [
       "True"
      ]
     },
     "execution_count": 60,
     "metadata": {},
     "output_type": "execute_result"
    }
   ],
   "source": [
    "#funtion to check if a string is a palindrome \n",
    "def palindrome(s):\n",
    "    if s==s[::-1]:\n",
    "        return True\n",
    "    else:\n",
    "        return False\n",
    "    \n",
    "palindrome(\"123321\")"
   ]
  },
  {
   "cell_type": "code",
   "execution_count": 61,
   "metadata": {},
   "outputs": [
    {
     "data": {
      "text/plain": [
       "False"
      ]
     },
     "execution_count": 61,
     "metadata": {},
     "output_type": "execute_result"
    }
   ],
   "source": [
    "#function to check if a year is a leap year\n",
    "def isLeapYear(year):\n",
    "    if year % 400==0 or (year % 100 !=0 and year % 4 ==0):\n",
    "        return True \n",
    "    else:\n",
    "        return False\n",
    "    \n",
    "isLeapYear(2019)"
   ]
  },
  {
   "cell_type": "code",
   "execution_count": 70,
   "metadata": {},
   "outputs": [
    {
     "data": {
      "text/plain": [
       "4"
      ]
     },
     "execution_count": 70,
     "metadata": {},
     "output_type": "execute_result"
    }
   ],
   "source": [
    "#function to count the number digits in a given number\n",
    "def noofdigits(n):\n",
    "    return len(str(n))\n",
    "    \n",
    "noofdigits(2019)\n",
    "       "
   ]
  },
  {
   "cell_type": "code",
   "execution_count": 69,
   "metadata": {},
   "outputs": [
    {
     "data": {
      "text/plain": [
       "4"
      ]
     },
     "execution_count": 69,
     "metadata": {},
     "output_type": "execute_result"
    }
   ],
   "source": [
    "#function to identfy the greatest of 4 numbers \n",
    "def greatestnumber(n1, n2,n3, n4):\n",
    "    if n1>n2 and n2>n3 and n3>n4:\n",
    "        return n1\n",
    "    elif n2>n3 and n2>n4:\n",
    "        return n2\n",
    "    elif n3>n4:\n",
    "        return n3\n",
    "    return n4\n",
    "    \n",
    "greatestnumber(1,2,3,4)"
   ]
  },
  {
   "cell_type": "code",
   "execution_count": null,
   "metadata": {},
   "outputs": [],
   "source": []
  },
  {
   "cell_type": "markdown",
   "metadata": {},
   "source": [
    "### iteration\n",
    "\n",
    "- for\n",
    "- while\n",
    "\n",
    "\n",
    "##### for loop in python \n",
    "\n",
    "\n",
    ".[lb, ub].\n",
    "\n",
    "for number in range(lb, ub+1)\n",
    "    print number\n",
    "    \n",
    "O/P :-\n",
    "\n",
    "101\n",
    "102\n",
    ".\n",
    ".\n",
    ".\n",
    "210\n"
   ]
  },
  {
   "cell_type": "code",
   "execution_count": 3,
   "metadata": {},
   "outputs": [
    {
     "name": "stdout",
     "output_type": "stream",
     "text": [
      "1 2 3 4 5 6 7 8 9 10 11 12 13 14 15 16 17 18 19 20 21 22 23 24 25 26 27 28 29 30 1 2 3 4 5 6 7 8 9 10 "
     ]
    }
   ],
   "source": [
    "# funtion to print n natural numbers\n",
    "\n",
    "def printNNaturalNumbers(n):\n",
    "    for counter in range(1, n+1):\n",
    "        print(counter, end=\" \")\n",
    "    return\n",
    "\n",
    "printNNaturalNumbers(30)\n",
    "printNNaturalNumbers(10)\n",
    "\n"
   ]
  },
  {
   "cell_type": "code",
   "execution_count": 6,
   "metadata": {},
   "outputs": [
    {
     "name": "stdout",
     "output_type": "stream",
     "text": [
      "500 504 508 512 516 520 524 "
     ]
    }
   ],
   "source": [
    "# function to print the alternate values in a range in the same line  \n",
    "#[500, 550] -> 500 502 504 506 . . . 550 \n",
    "#(500, 550) -> 501 503 . . . 549\n",
    "#range(500, 550) ->500 501 502 ...549\n",
    "\n",
    "def alternateValues(lb, ub):\n",
    "    for value in range (lb, ub+1, 4):\n",
    "        print(value, end=\" \")\n",
    "    return \n",
    "alternateValues(500, 525)"
   ]
  },
  {
   "cell_type": "code",
   "execution_count": 11,
   "metadata": {},
   "outputs": [
    {
     "name": "stdout",
     "output_type": "stream",
     "text": [
      "525 524 523 522 521 520 519 518 517 516 515 514 513 512 511 510 509 508 507 506 505 504 503 502 501 500 "
     ]
    }
   ],
   "source": [
    "#function to print reverse of the given range in the same line \n",
    "\n",
    "def reverseValues(lb, ub):\n",
    "    for value in range (ub, lb-1, -1):\n",
    "        print(value, end=\" \")\n",
    "    return\n",
    "\n",
    "reverseValues(500, 525)"
   ]
  },
  {
   "cell_type": "code",
   "execution_count": 14,
   "metadata": {},
   "outputs": [
    {
     "name": "stdout",
     "output_type": "stream",
     "text": [
      "9 7 5 3 1 "
     ]
    }
   ],
   "source": [
    "#function to print the odd numbers in a reverse order in a range \n",
    "\n",
    "def reverseValues(lb, ub):\n",
    "    for value in range(ub-1, lb-1, -2):\n",
    "        print(value, end=\" \")\n",
    "    return\n",
    "reverseValues(1, 10)"
   ]
  },
  {
   "cell_type": "code",
   "execution_count": 20,
   "metadata": {},
   "outputs": [
    {
     "data": {
      "text/plain": [
       "15050.0"
      ]
     },
     "execution_count": 20,
     "metadata": {},
     "output_type": "execute_result"
    }
   ],
   "source": [
    "#function to calculate the sum of numbers in a range \n",
    "\n",
    "def values(lb, ub):\n",
    "    sum=0\n",
    "    for i in range(lb, ub+1):\n",
    "        sum = sum+i \n",
    "    return sum\n",
    "      \n",
    "values(100, 200)\n",
    "\n",
    "200*201/2 - (100*101/2)"
   ]
  },
  {
   "cell_type": "code",
   "execution_count": 53,
   "metadata": {},
   "outputs": [
    {
     "data": {
      "text/plain": [
       "3.0"
      ]
     },
     "execution_count": 53,
     "metadata": {},
     "output_type": "execute_result"
    }
   ],
   "source": [
    "#function to calculate the average of the given range\n",
    "def average(lb, ub):\n",
    "    sum=0\n",
    "    count=0\n",
    "    for n in range(lb, ub+1):\n",
    "        sum = sum+n\n",
    "        count=count+1     \n",
    "        avg = sum/n\n",
    "    return avg\n",
    "average(1, 5)"
   ]
  },
  {
   "cell_type": "code",
   "execution_count": 9,
   "metadata": {},
   "outputs": [
    {
     "name": "stdout",
     "output_type": "stream",
     "text": [
      "2000 2004 2008 2012 2016 2020 "
     ]
    }
   ],
   "source": [
    "#function to generate all leap years in a given time period \n",
    "#2000 - 2020 -> 2000 2004 2008 2012 2016 2020\n",
    "\n",
    "def leapYear(year):\n",
    "    if year%400==0 or(year%100!=0 and year%4==0):\n",
    "        return True \n",
    "    return False\n",
    "def genereteleapyears(startyear, endyear):\n",
    "    for year in range(startyear, endyear+1): \n",
    "        if leapYear(year):\n",
    "            print(year, end=\" \")\n",
    "    return\n",
    "genereteleapyears(2000, 2020)"
   ]
  },
  {
   "cell_type": "code",
   "execution_count": 30,
   "metadata": {},
   "outputs": [
    {
     "ename": "SyntaxError",
     "evalue": "invalid syntax (<ipython-input-30-403ddf83d0b0>, line 54)",
     "output_type": "error",
     "traceback": [
      "\u001b[1;36m  File \u001b[1;32m\"<ipython-input-30-403ddf83d0b0>\"\u001b[1;36m, line \u001b[1;32m54\u001b[0m\n\u001b[1;33m    elif endyear - start year > 2:\u001b[0m\n\u001b[1;37m                            ^\u001b[0m\n\u001b[1;31mSyntaxError\u001b[0m\u001b[1;31m:\u001b[0m invalid syntax\n"
     ]
    }
   ],
   "source": [
    "# function to calculate number of hours for a given period  (11, 1975, 3, 1999) \n",
    "#(5, 2019, 6, 2019)\n",
    "#2, 2016 , 6, 2019\n",
    "# [all days from feb 2016 to dec 2016\n",
    "#. all days for years between 2016 and 2019,\n",
    "#      all days from jan to june 2019]\n",
    "#no of hours = 24*no of days \n",
    "# 3 steps \n",
    "    #1. start month year to end of year - calculate no of days \n",
    "    #2. calculate days for all years between start year and end year exclusive \n",
    "        #2017,2018 - 365*no of years \n",
    "    #3.calculate days from jan to end month year \n",
    "#excluding Feb \n",
    "# first six months - 1, 3, 4, 5, 6, 7\n",
    "                    #all odd months have 31 days \n",
    "                    # all even months have 30 days \n",
    "#last six months- 8, 9, 10, 11, 12 \n",
    "                #all even months have 31 days \n",
    "                #all odd months have 30 days \n",
    "# 31 days - (month <= 7 and month % 2 != 0 and month != 2 ) || (month >= 8 and month)\n",
    "#              return 31 \n",
    "    \n",
    " #         else \n",
    " #               return 30\n",
    "    \n",
    "    \n",
    "def numberofdaysmonth(month,year):\n",
    "    if month == 2:\n",
    "        if leapYear(year):\n",
    "            return 29\n",
    "    if (month <= 7 and month % 2!= 0) or (month >=8 and month%2!=0):\n",
    "        return 31\n",
    "    else:\n",
    "        return 30\n",
    "\n",
    "def daysinstartyear(startmonth, startyear):\n",
    "    days = 0 \n",
    "    for month in range(startmonth, 13):\n",
    "        days += numberofdaysmonth(month, startyear)\n",
    "    return days \n",
    "\n",
    "def daysinendyear(endmonth, endyear):\n",
    "    days = 0\n",
    "    for month in range(1, endmonth+1):\n",
    "        days += numberofdaysmonth(month, endyear)\n",
    "    return days\n",
    "\n",
    "def numberofhours(startmonth, startyear, endmonth, endyear):\n",
    "    days = 0\n",
    "    days += daysinstartyear(startmonth, startyear)\n",
    "    days +=daysinendyear(endmonth, endyear)\n",
    "    if endyear - startyear == 2:\n",
    "        days +=numberofdays(startyear+1, startyear+1)\n",
    "    elif endyear - start year > 2:\n",
    "        days += numberofdays(startyear+1, endyear-1)\n",
    "    return 24* days\n",
    "\n",
    "numberofhours(11, 1975, 3, 1999)\n"
   ]
  },
  {
   "cell_type": "code",
   "execution_count": 25,
   "metadata": {},
   "outputs": [
    {
     "name": "stdout",
     "output_type": "stream",
     "text": [
      "1 2 3 4 5 6 7 8 9 10 11 12 13 14 15 16 17 18 "
     ]
    }
   ],
   "source": [
    "#function to print N Natural numbers using a while loop \n",
    "def nNaturalNumbers(n):\n",
    "    counter = 1\n",
    "    while counter <= n:\n",
    "        print(counter, end =\" \")\n",
    "        counter = counter + 1\n",
    "    return \n",
    "nNaturalNumbers(18)"
   ]
  },
  {
   "cell_type": "code",
   "execution_count": 7,
   "metadata": {},
   "outputs": [
    {
     "name": "stdout",
     "output_type": "stream",
     "text": [
      "1\n"
     ]
    }
   ],
   "source": [
    "# functions to print all the numbers divisible with 6 and not a factor of 100 in a given range (lb, ub) inclusive \n",
    "def countDivisibles(A, B, M): \n",
    "      \n",
    "    # Variable to store the counter \n",
    "    counter = 0; \n",
    "  \n",
    "    # Running a loop from A to B \n",
    "    # and check if a number is  \n",
    "    # divisible by M. \n",
    "    for i in range(A, B): \n",
    "        if (i % M == 0): \n",
    "            counter = counter + 1\n",
    "  \n",
    "    return counter\n",
    "A=0\n",
    "B=50\n",
    "M=100\n",
    "print(countDivisibles(A, B, M)) "
   ]
  },
  {
   "cell_type": "code",
   "execution_count": 122,
   "metadata": {},
   "outputs": [
    {
     "data": {
      "text/plain": [
       "40000.0"
      ]
     },
     "execution_count": 122,
     "metadata": {},
     "output_type": "execute_result"
    }
   ],
   "source": [
    "#function to find the average of cubes of all even numbers in a given range(lb, ub) inclusive \n",
    "def avgCubesEven(lb, ub):\n",
    "    sum=0\n",
    "    for i in range(lb, ub+1):\n",
    "        if i%2==0:\n",
    "            sum+=i**3\n",
    "        return sum/(ub-lb)\n",
    "avgCubesEven(200,400)"
   ]
  },
  {
   "cell_type": "code",
   "execution_count": 99,
   "metadata": {},
   "outputs": [
    {
     "name": "stdout",
     "output_type": "stream",
     "text": [
      "the factors of 12 are:\n",
      "1\n",
      "2\n",
      "3\n",
      "4\n",
      "6\n",
      "12\n"
     ]
    }
   ],
   "source": [
    "#function to generate the list of factors for a given number 12 -->1 2 3 4 6 12 \n",
    "def print_factors(x):\n",
    "    print(\"the factors of\",x,\"are:\")\n",
    "    for i in range(1,x+1):\n",
    "        if x % i == 0:\n",
    "            print(i)\n",
    "            \n",
    "num=12\n",
    "\n",
    "print_factors(num)"
   ]
  },
  {
   "cell_type": "code",
   "execution_count": 114,
   "metadata": {},
   "outputs": [
    {
     "name": "stdout",
     "output_type": "stream",
     "text": [
      "Input a number to compute the factiorial : 3\n",
      "6\n"
     ]
    }
   ],
   "source": [
    "#function to calculate the factorial of a given number \n",
    "def factorial(n):\n",
    "    if n == 0:\n",
    "        return 1\n",
    "    else:\n",
    "        return n * factorial(n-1)\n",
    "n=int(input(\"Input a number to compute the factiorial : \"))\n",
    "print(factorial(n))\n"
   ]
  },
  {
   "cell_type": "code",
   "execution_count": 128,
   "metadata": {},
   "outputs": [],
   "source": [
    "#function to check if a given number is prime \n",
    "def isprime(n):\n",
    "    flag = 1\n",
    "    for i in range(2, n//2):\n",
    "        if n%i == 0:\n",
    "            flag=false\n",
    "        return flag\n",
    "\n",
    "    \n",
    "    isprime(17)"
   ]
  },
  {
   "cell_type": "code",
   "execution_count": 2,
   "metadata": {},
   "outputs": [
    {
     "ename": "NameError",
     "evalue": "name 'primecount' is not defined",
     "output_type": "error",
     "traceback": [
      "\u001b[1;31m---------------------------------------------------------------------------\u001b[0m",
      "\u001b[1;31mNameError\u001b[0m                                 Traceback (most recent call last)",
      "\u001b[1;32m<ipython-input-2-8ef4cdb5be63>\u001b[0m in \u001b[0;36m<module>\u001b[1;34m\u001b[0m\n\u001b[0;32m     13\u001b[0m     \u001b[1;32mreturn\u001b[0m \u001b[0msum\u001b[0m\u001b[1;33m/\u001b[0m\u001b[0mn\u001b[0m\u001b[1;33m\u001b[0m\u001b[1;33m\u001b[0m\u001b[0m\n\u001b[0;32m     14\u001b[0m \u001b[1;33m\u001b[0m\u001b[0m\n\u001b[1;32m---> 15\u001b[1;33m \u001b[0mavgNPrimes\u001b[0m\u001b[1;33m(\u001b[0m\u001b[1;36m10\u001b[0m\u001b[1;33m)\u001b[0m\u001b[1;33m\u001b[0m\u001b[1;33m\u001b[0m\u001b[0m\n\u001b[0m",
      "\u001b[1;32m<ipython-input-2-8ef4cdb5be63>\u001b[0m in \u001b[0;36mavgNPrimes\u001b[1;34m(n)\u001b[0m\n\u001b[0;32m      5\u001b[0m     \u001b[0msum\u001b[0m \u001b[1;33m=\u001b[0m \u001b[1;36m0\u001b[0m\u001b[1;33m\u001b[0m\u001b[1;33m\u001b[0m\u001b[0m\n\u001b[0;32m      6\u001b[0m     \u001b[0mseqcount\u001b[0m \u001b[1;33m=\u001b[0m \u001b[1;36m2\u001b[0m\u001b[1;33m\u001b[0m\u001b[1;33m\u001b[0m\u001b[0m\n\u001b[1;32m----> 7\u001b[1;33m     \u001b[1;32mwhile\u001b[0m\u001b[1;33m(\u001b[0m\u001b[0mprimecount\u001b[0m \u001b[1;33m<\u001b[0m \u001b[0mn\u001b[0m\u001b[1;33m)\u001b[0m\u001b[1;33m:\u001b[0m\u001b[1;33m\u001b[0m\u001b[1;33m\u001b[0m\u001b[0m\n\u001b[0m\u001b[0;32m      8\u001b[0m         \u001b[1;32mif\u001b[0m \u001b[0misprime\u001b[0m\u001b[1;33m(\u001b[0m\u001b[0mseqcount\u001b[0m\u001b[1;33m)\u001b[0m\u001b[1;33m:\u001b[0m\u001b[1;33m\u001b[0m\u001b[1;33m\u001b[0m\u001b[0m\n\u001b[0;32m      9\u001b[0m             \u001b[0mprimeCount\u001b[0m \u001b[1;33m+=\u001b[0m\u001b[1;36m1\u001b[0m\u001b[1;33m\u001b[0m\u001b[1;33m\u001b[0m\u001b[0m\n",
      "\u001b[1;31mNameError\u001b[0m: name 'primecount' is not defined"
     ]
    }
   ],
   "source": [
    "#function to calculate the average of N prime numbers\n",
    "\n",
    "def avgNPrimes(n):\n",
    "    count = 0\n",
    "    sum = 0\n",
    "    seqcount = 2\n",
    "    while(primecount < n):\n",
    "        if isprime(seqcount):  \n",
    "            primeCount +=1\n",
    "            sum += seqcount \n",
    "           # print(seqcount)\n",
    "        seqcount +=1\n",
    "    return sum/n\n",
    "\n",
    "avgNPrimes(10)"
   ]
  },
  {
   "cell_type": "code",
   "execution_count": 1,
   "metadata": {},
   "outputs": [
    {
     "name": "stdout",
     "output_type": "stream",
     "text": [
      "False\n"
     ]
    }
   ],
   "source": [
    "#functions to generate all perfect numbers in a given range \n",
    "def perfect_number(n):\n",
    "    sum = 0\n",
    "    for x in range(1, n):\n",
    "        if n % x == 0:\n",
    "            sum += x\n",
    "    return sum == n\n",
    "\n",
    "print(perfect_number(20))"
   ]
  },
  {
   "cell_type": "code",
   "execution_count": null,
   "metadata": {},
   "outputs": [],
   "source": []
  }
 ],
 "metadata": {
  "kernelspec": {
   "display_name": "Python 3",
   "language": "python",
   "name": "python3"
  },
  "language_info": {
   "codemirror_mode": {
    "name": "ipython",
    "version": 3
   },
   "file_extension": ".py",
   "mimetype": "text/x-python",
   "name": "python",
   "nbconvert_exporter": "python",
   "pygments_lexer": "ipython3",
   "version": "3.7.3"
  }
 },
 "nbformat": 4,
 "nbformat_minor": 2
}
