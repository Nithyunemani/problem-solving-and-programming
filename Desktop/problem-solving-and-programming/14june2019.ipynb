{
 "cells": [
  {
   "cell_type": "markdown",
   "metadata": {},
   "source": [
    "## problem solving and progrmming  in python - day 4\n",
    "\n",
    "### date-14 june 2019\n",
    "\n",
    "### day objectives \n",
    "- python data structures\n",
    "     * lists\n",
    "     * dictionaries \n",
    "     * basic problem set on data structures \n",
    "- advanced problem set \n",
    "- packages and modules in python "
   ]
  },
  {
   "cell_type": "code",
   "execution_count": null,
   "metadata": {},
   "outputs": [],
   "source": []
  },
  {
   "cell_type": "markdown",
   "metadata": {},
   "source": [
    "## python data structures \n",
    "\n",
    "### lists"
   ]
  },
  {
   "cell_type": "code",
   "execution_count": 30,
   "metadata": {},
   "outputs": [
    {
     "data": {
      "text/plain": [
       "411.0"
      ]
     },
     "execution_count": 30,
     "metadata": {},
     "output_type": "execute_result"
    }
   ],
   "source": [
    "li = [123, 978, 654]\n",
    "\n",
    "li #access the entire list \n",
    "\n",
    "li[1] #accessing an element with index in a list\n",
    "\n",
    "li[1:] #accessing all elements from second element to last element \n",
    "\n",
    "li[::-1] # reversing list elements and reassigning list elements  \n",
    "\n",
    "li\n",
    "\n",
    "li = li[::-1]\n",
    "\n",
    "li[::2] # accessing even index elements\n",
    "\n",
    "li[1::2] \n",
    "\n",
    "# list can be accessed, manipulated in two different ways \n",
    "    # direct referencing - [index] \n",
    "    # indirect referencing - through functions \n",
    "    \n",
    "\n",
    "li. append(345)# adding an element to end of the list \n",
    "\n",
    "li.insert(1, 234)# adding an element at a particular index \n",
    "\n",
    "li.sort() # sort elements in ascending order \n",
    "\n",
    "li.pop()#remove the last element in a list\n",
    "\n",
    "li.pop(2)#remove an element at a particular index \n",
    "\n",
    "li2 = [234, 456, 789]\n",
    "\n",
    "li.extend(li2)#merge list 2 into list 1 \n",
    "\n",
    "sum(li) # sum of all elements in alist \n",
    "max(li) #maximum elements in a list \n",
    "len(li) #number of elements in a list\n",
    "\n",
    "sum(li)/len(li)# average of list elements\n",
    "\n",
    "sum(li[::2])/len(li[::2])#average of all alternate elements \n",
    "\n"
   ]
  },
  {
   "cell_type": "code",
   "execution_count": 34,
   "metadata": {},
   "outputs": [
    {
     "data": {
      "text/plain": [
       "654"
      ]
     },
     "execution_count": 34,
     "metadata": {},
     "output_type": "execute_result"
    }
   ],
   "source": [
    "#function to identify the second largest element in the list \n",
    "\n",
    "def secondlargest(li):\n",
    "    li.sort()\n",
    "    return li[-2]\n",
    "    \n",
    "\n",
    "secondlargest(li) "
   ]
  },
  {
   "cell_type": "code",
   "execution_count": 38,
   "metadata": {},
   "outputs": [
    {
     "data": {
      "text/plain": [
       "234"
      ]
     },
     "execution_count": 38,
     "metadata": {},
     "output_type": "execute_result"
    }
   ],
   "source": [
    "#function that returns the nth largest \n",
    "def genericlargest(li, n):\n",
    "    li.sort()\n",
    "    return li[-n]\n",
    "\n",
    "genericlargest(li, 5)"
   ]
  },
  {
   "cell_type": "code",
   "execution_count": 50,
   "metadata": {},
   "outputs": [
    {
     "data": {
      "text/plain": [
       "1"
      ]
     },
     "execution_count": 50,
     "metadata": {},
     "output_type": "execute_result"
    }
   ],
   "source": [
    "#function to search for data in a list \n",
    "# search for the key in the list and  return the index of the key.return -1,if key not found\n",
    "\n",
    "def linearsearch(li, key):\n",
    "    l=len(li)\n",
    "    for i in range(l):\n",
    "        if key == li[i]:\n",
    "            return i\n",
    "    else:\n",
    "        return -1\n",
    "linearsearch(li, 234)"
   ]
  },
  {
   "cell_type": "code",
   "execution_count": 51,
   "metadata": {},
   "outputs": [
    {
     "data": {
      "text/plain": [
       "1"
      ]
     },
     "execution_count": 51,
     "metadata": {},
     "output_type": "execute_result"
    }
   ],
   "source": [
    "#function to count the occurances of a character i a string\n",
    "#\"python programming\"m -> 2 \n",
    "\n",
    "def countoccurances(s, ch):\n",
    "    count = 0\n",
    "    for ch in s:\n",
    "        if ch == c:\n",
    "            count +=1\n",
    "        return count\n",
    "    \n",
    "def countcharoccurances2(s, c):\n",
    "    return s.count(c)\n",
    "\n",
    "countcharoccurances2(\"python programming\", 'py')\n",
    "\n"
   ]
  },
  {
   "cell_type": "code",
   "execution_count": 60,
   "metadata": {},
   "outputs": [
    {
     "data": {
      "text/plain": [
       "3"
      ]
     },
     "execution_count": 60,
     "metadata": {},
     "output_type": "execute_result"
    }
   ],
   "source": [
    "#function to find the umber of occurances of a substring \n",
    "#\"abcabcddcba\", \"ab\" -> 2\n",
    "\n",
    "def occuranceofsubstr(string,substr):\n",
    "    count=0\n",
    "    l=len(substr)\n",
    "    for i in range(len(string)):\n",
    "        if substr == string[i:i+l]:\n",
    "            count+=1\n",
    "    return count\n",
    "occuranceofsubstr(\"abcabcddcbaaaa\", 'aa')"
   ]
  },
  {
   "cell_type": "code",
   "execution_count": 62,
   "metadata": {},
   "outputs": [
    {
     "data": {
      "text/plain": [
       "[1, 2, 3, 4, 5, 6]"
      ]
     },
     "execution_count": 62,
     "metadata": {},
     "output_type": "execute_result"
    }
   ],
   "source": [
    "s = \"1 2 3 4 5 6\"\n",
    "li=s.split()\n",
    "numberlist = []\n",
    "for i in li:\n",
    "    numberlist.append(int(i))\n",
    "numberlist"
   ]
  },
  {
   "cell_type": "code",
   "execution_count": 69,
   "metadata": {},
   "outputs": [
    {
     "name": "stdout",
     "output_type": "stream",
     "text": [
      "6\n",
      "1 2 3 4 5 6\n"
     ]
    },
    {
     "data": {
      "text/plain": [
       "1"
      ]
     },
     "execution_count": 69,
     "metadata": {},
     "output_type": "execute_result"
    }
   ],
   "source": [
    "#q2-==10 marks \n",
    "#answer\n",
    "\n",
    "n = int(input())\n",
    "s = input()\n",
    "#\"1 2 3 4 5\"\n",
    "li = []\n",
    "for i in s.split():\n",
    "    li.append(abs(int(i)))\n",
    "min(li)\n",
    "      "
   ]
  },
  {
   "cell_type": "code",
   "execution_count": 70,
   "metadata": {},
   "outputs": [
    {
     "name": "stdout",
     "output_type": "stream",
     "text": [
      "6\n",
      "-2 -1 1 2 \n"
     ]
    },
    {
     "data": {
      "text/plain": [
       "1"
      ]
     },
     "execution_count": 70,
     "metadata": {},
     "output_type": "execute_result"
    }
   ],
   "source": [
    "\n",
    "n = int(input())\n",
    "s = input()\n",
    "s = s.split()\n",
    "li=[]\n",
    "for i in s:\n",
    "    li.append(abs(int(i)))\n",
    "min(li)"
   ]
  },
  {
   "cell_type": "code",
   "execution_count": null,
   "metadata": {},
   "outputs": [],
   "source": [
    "def closestzero(li):\n",
    "    if 0 in li:\n",
    "        return 0\n",
    "    else:\n",
    "        li,sort()\n",
    "        pc=[]\n",
    "        nc=[]\n",
    "        for i in"
   ]
  }
 ],
 "metadata": {
  "kernelspec": {
   "display_name": "Python 3",
   "language": "python",
   "name": "python3"
  },
  "language_info": {
   "codemirror_mode": {
    "name": "ipython",
    "version": 3
   },
   "file_extension": ".py",
   "mimetype": "text/x-python",
   "name": "python",
   "nbconvert_exporter": "python",
   "pygments_lexer": "ipython3",
   "version": "3.7.3"
  }
 },
 "nbformat": 4,
 "nbformat_minor": 2
}
