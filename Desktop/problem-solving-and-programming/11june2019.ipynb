{
 "cells": [
  {
   "cell_type": "markdown",
   "metadata": {},
   "source": [
    "### markdown basics \n",
    "\n",
    "* **bold** \n",
    "* *itallic* \n",
    "* ***ib*** \n",
    "* normal text \n",
    "  * sublist 1 \n",
    "  * sublist 2\n",
    "\n",
    "\n",
    "> 1. ordered list element 1\n",
    "> 2. ordered list element 2\n",
    "\n",
    "\n",
    "- []Option 1\n",
    "- []Option 2\n",
    "- []Option 3\n",
    "\n",
    "I get 10 times more traffic from [Google] [1] than from\n",
    "[Yahoo] [2] or [MSN] [3].\n",
    "\n",
    "  [1]: http://google.com/        \"Google\"\n",
    "  [2]: http://search.yahoo.com/  \"Yahoo Search\"\n",
    "  [3]: http://search.msn.com/    \"MSN Search\"\n",
    ".[nithyusha](jupyter.png)\n",
    "\n",
    "\n",
    "<img src=\"jupyter.png\" style=\"float:left\">\n"
   ]
  },
  {
   "cell_type": "markdown",
   "metadata": {},
   "source": [
    "# python basics\n",
    "## python version 3.7\n",
    " - scrpting \n",
    " - object oriented\n",
    " - functional"
   ]
  },
  {
   "cell_type": "code",
   "execution_count": 13,
   "metadata": {},
   "outputs": [
    {
     "name": "stdout",
     "output_type": "stream",
     "text": [
      "good afternoon  !|| hello python\n"
     ]
    }
   ],
   "source": [
    "# python comments\n",
    "\n",
    "print(\"good afternoon \",\"!\",end=\"|| \") # basic output\n",
    "print(\"hello python\")"
   ]
  },
  {
   "cell_type": "code",
   "execution_count": null,
   "metadata": {},
   "outputs": [],
   "source": []
  },
  {
   "cell_type": "markdown",
   "metadata": {},
   "source": [
    "### Assignment"
   ]
  },
  {
   "cell_type": "code",
   "execution_count": null,
   "metadata": {},
   "outputs": [],
   "source": [
    "n1 = 123456 # single variable assignment \n",
    "\n",
    "n2 = n3 = n4 = n1 #multi variable assignment of the same value\n",
    "\n",
    "a , b , c = 123 ,143 ,345  # multi variable assignment with different values \n",
    "\n",
    "print(a, b, c)"
   ]
  },
  {
   "cell_type": "code",
   "execution_count": null,
   "metadata": {},
   "outputs": [],
   "source": []
  },
  {
   "cell_type": "markdown",
   "metadata": {},
   "source": [
    "### Arithematic Operations \n",
    " - +\n",
    " - - \n",
    " - * \n",
    " - /\n",
    " - %\n",
    " - **\n",
    " "
   ]
  },
  {
   "cell_type": "code",
   "execution_count": null,
   "metadata": {},
   "outputs": [],
   "source": [
    "n1 % 11\n",
    "\n",
    "n3 = n2 ** 123444444445678902345678\n",
    "\n",
    "type(n3)\n",
    "len(str(n3))\n",
    "\n",
    "atoms = 10 ** 20\n",
    "len(str(atoms))\n",
    "type(str(atoms))\n"
   ]
  },
  {
   "cell_type": "code",
   "execution_count": null,
   "metadata": {},
   "outputs": [],
   "source": []
  }
 ],
 "metadata": {
  "kernelspec": {
   "display_name": "Python 3",
   "language": "python",
   "name": "python3"
  },
  "language_info": {
   "codemirror_mode": {
    "name": "ipython",
    "version": 3
   },
   "file_extension": ".py",
   "mimetype": "text/x-python",
   "name": "python",
   "nbconvert_exporter": "python",
   "pygments_lexer": "ipython3",
   "version": "3.7.3"
  }
 },
 "nbformat": 4,
 "nbformat_minor": 2
}
