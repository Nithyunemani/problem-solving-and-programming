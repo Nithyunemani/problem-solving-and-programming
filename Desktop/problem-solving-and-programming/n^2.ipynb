{
 "cells": [
  {
   "cell_type": "code",
   "execution_count": 1,
   "metadata": {},
   "outputs": [
    {
     "name": "stdout",
     "output_type": "stream",
     "text": [
      "123 143 345\n"
     ]
    }
   ],
   "source": [
    "n1 = 123456 # single variable assignment \n",
    "\n",
    "n2 = n3 = n4 = n1 #multi variable assignment of the same value\n",
    "\n",
    "a , b , c = 123 ,143 ,345  # multi variable assignment with different values \n",
    "\n",
    "print(a, b, c)"
   ]
  },
  {
   "cell_type": "code",
   "execution_count": 19,
   "metadata": {},
   "outputs": [
    {
     "data": {
      "text/plain": [
       "6130687873308026945890176790042303730066739281"
      ]
     },
     "execution_count": 19,
     "metadata": {},
     "output_type": "execute_result"
    }
   ],
   "source": [
    "n1%11\n",
    "\n",
    "n3 = n2 ** 123\n",
    "\n",
    "type(n3)\n",
    "len(str(n3))\n",
    "\n",
    "atoms = 10 ** 83\n",
    "len(str(atoms))\n",
    "type(str(atoms))\n",
    "\n",
    "122321 ** 9"
   ]
  },
  {
   "cell_type": "markdown",
   "metadata": {},
   "source": [
    "## conditionals "
   ]
  },
  {
   "cell_type": "code",
   "execution_count": 30,
   "metadata": {},
   "outputs": [
    {
     "name": "stdout",
     "output_type": "stream",
     "text": [
      "true\n"
     ]
    }
   ],
   "source": [
    "if atoms < 10 ** 96:\n",
    "    print(\"true\")\n",
    "else:\n",
    "    print(\"false\")"
   ]
  },
  {
   "cell_type": "code",
   "execution_count": 34,
   "metadata": {},
   "outputs": [
    {
     "name": "stdout",
     "output_type": "stream",
     "text": [
      "even\n"
     ]
    }
   ],
   "source": [
    "#check if a number is even \n",
    "\n",
    "n=12\n",
    "if n % 2 == 0:\n",
    "    print(\"even\")\n",
    "else:\n",
    "    print(\"odd\")\n",
    "    "
   ]
  },
  {
   "cell_type": "code",
   "execution_count": 37,
   "metadata": {},
   "outputs": [
    {
     "name": "stdout",
     "output_type": "stream",
     "text": [
      "enter the first number-1\n",
      "enter the second number-100\n",
      "enter the third number -50\n",
      "-50 is the greatest\n"
     ]
    }
   ],
   "source": [
    "#find the greatest of 3 numbers\n",
    "n1 = input(\"enter the first number\")\n",
    "\n",
    "n2 = input(\"enter the second number\")\n",
    "n3 = input(\"enter the third number \")\n",
    "\n",
    "if n1>n2 and n1>n3:\n",
    "    print(n1,\"is the greatest\")\n",
    "elif n2>n3:\n",
    "    print(n2,\"is the greatest\")\n",
    "else:\n",
    "    print(n3,\"is the greatest\")"
   ]
  },
  {
   "cell_type": "code",
   "execution_count": 41,
   "metadata": {},
   "outputs": [
    {
     "name": "stdout",
     "output_type": "stream",
     "text": [
      "enter any year2004\n",
      "2004 is a leap year\n"
     ]
    }
   ],
   "source": [
    "# check if the number is a leap year or not\n",
    "n1 = int(input(\"enter any year\"))\n",
    "\n",
    "if(n1%4==0 and n1!=100) or n1%400==0:\n",
    "    print(n1,\"is a leap year\")"
   ]
  },
  {
   "cell_type": "code",
   "execution_count": 54,
   "metadata": {},
   "outputs": [
    {
     "name": "stdout",
     "output_type": "stream",
     "text": [
      "a number123456\n"
     ]
    },
    {
     "data": {
      "text/plain": [
       "6"
      ]
     },
     "execution_count": 54,
     "metadata": {},
     "output_type": "execute_result"
    }
   ],
   "source": [
    "#calculate the number of digits in a number\n",
    "\n",
    "n=int(input(\"a number\"))\n",
    "\n",
    "len(str(n))\n",
    "\n",
    "\n"
   ]
  },
  {
   "cell_type": "code",
   "execution_count": 48,
   "metadata": {},
   "outputs": [
    {
     "name": "stdout",
     "output_type": "stream",
     "text": [
      "enter a number55\n",
      "55 is not a factor of 10\n"
     ]
    }
   ],
   "source": [
    "#check if a number is multiple of 10\n",
    "\n",
    "n=int(input(\"enter a number\"))\n",
    "\n",
    "if n%10==0:\n",
    "    print(n,\"is a factor of 10\")\n",
    "else:\n",
    "    print(n,\"is not a factor of 10\")\n",
    "    "
   ]
  },
  {
   "cell_type": "code",
   "execution_count": 50,
   "metadata": {},
   "outputs": [
    {
     "name": "stdout",
     "output_type": "stream",
     "text": [
      "enter a numer45555\n",
      "45555 is not a factor of 1000\n"
     ]
    }
   ],
   "source": [
    "#check if the number is a factor of 1000\n",
    "\n",
    "n=int(input(\"enter a numer\"))\n",
    "\n",
    "if n%1000==0:\n",
    "    print(n,\"is a factor of 1000\")\n",
    "else:\n",
    "    print(n,\"is not a factor of 1000\")"
   ]
  },
  {
   "cell_type": "code",
   "execution_count": 64,
   "metadata": {},
   "outputs": [
    {
     "name": "stdout",
     "output_type": "stream",
     "text": [
      "enter the stringabc\n",
      "enter a number3\n",
      "abc false\n"
     ]
    }
   ],
   "source": [
    "#check if given string is equal to a number \n",
    "n=input(\"enter the string\")\n",
    "num=int(input(\"enter a number\"))\n",
    "\n",
    "if num==str:\n",
    "    print(n,\"true\")\n",
    "else:\n",
    "    print(n,\"false\")\n"
   ]
  },
  {
   "cell_type": "code",
   "execution_count": 65,
   "metadata": {},
   "outputs": [
    {
     "data": {
      "text/plain": [
       "10.954451150103322"
      ]
     },
     "execution_count": 65,
     "metadata": {},
     "output_type": "execute_result"
    }
   ],
   "source": [
    "# calulate the square root of a given number without functions\n",
    "n=120\n",
    "n**0.5"
   ]
  },
  {
   "cell_type": "code",
   "execution_count": 70,
   "metadata": {},
   "outputs": [
    {
     "name": "stdout",
     "output_type": "stream",
     "text": [
      "31622400000000000\n"
     ]
    }
   ],
   "source": [
    "#calculate the number of nano micro seconds in a  \n",
    "#given year(considering leap year logic\n",
    "print(366*24*60*60*(10**9))\n",
    "\n"
   ]
  },
  {
   "cell_type": "code",
   "execution_count": null,
   "metadata": {},
   "outputs": [],
   "source": []
  },
  {
   "cell_type": "markdown",
   "metadata": {},
   "source": [
    "### data types & type conversions\n",
    " - int \n",
    " - float \n",
    " - string \n",
    " "
   ]
  },
  {
   "cell_type": "code",
   "execution_count": null,
   "metadata": {},
   "outputs": [],
   "source": []
  }
 ],
 "metadata": {
  "kernelspec": {
   "display_name": "Python 3",
   "language": "python",
   "name": "python3"
  },
  "language_info": {
   "codemirror_mode": {
    "name": "ipython",
    "version": 3
   },
   "file_extension": ".py",
   "mimetype": "text/x-python",
   "name": "python",
   "nbconvert_exporter": "python",
   "pygments_lexer": "ipython3",
   "version": "3.7.3"
  }
 },
 "nbformat": 4,
 "nbformat_minor": 2
}
